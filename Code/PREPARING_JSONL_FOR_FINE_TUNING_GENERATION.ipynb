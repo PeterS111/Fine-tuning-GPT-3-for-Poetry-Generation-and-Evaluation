{
 "cells": [
  {
   "cell_type": "markdown",
   "metadata": {},
   "source": [
    "<a target=\"_blank\" href=\"https://colab.research.google.com/github/PeterS111/Fine-tuning-GPT-3-for-Poetry-Generation-and-Evaluation/blob/main/Code/PREPARING_JSONL_FOR_FINE_TUNING_GENERATION.ipynb\">\n",
    "  <img src=\"https://colab.research.google.com/assets/colab-badge.svg\" alt=\"Open In Colab\"/>\n",
    "</a>"
   ]
  },
  {
   "cell_type": "markdown",
   "metadata": {},
   "source": [
    "### This notebook prepares the .jsonl files for fine-tuning GPT-3\n",
    "\n",
    "for details please refer to our paper: https://github.com/PeterS111/Fine-tuning-GPT-3-for-Poetry-Generation-and-Evaluation/blob/main/sawicki2023gptpoetry.pdf\n",
    "\n",
    "author: PeterS\n",
    "\n",
    "version: 29/04/2023"
   ]
  },
  {
   "cell_type": "code",
   "execution_count": null,
   "metadata": {},
   "outputs": [],
   "source": [
    "import os\n",
    "import json"
   ]
  },
  {
   "cell_type": "code",
   "execution_count": null,
   "metadata": {},
   "outputs": [],
   "source": [
    "def open_file(filepath):\n",
    "    with open(filepath, 'r', encoding='utf-8') as infile:\n",
    "        return infile.read()"
   ]
  },
  {
   "cell_type": "code",
   "execution_count": null,
   "metadata": {},
   "outputs": [],
   "source": [
    "## PREPARING DATA FOR GPT-3 JSONL\n",
    "\n",
    "src_dir = 'Wordsworth/'\n",
    "files = os.listdir(src_dir)\n",
    "data = list()\n",
    "\n",
    "for file in files:\n",
    "    all_lines = open_file(src_dir + file)\n",
    "    prompt = all_lines.split(\"<|startofpoem|>\")[0].strip() + \"\\n\" + \"<|startofpoem|>\\n \"\n",
    "    completion = all_lines.split(\"<|startofpoem|>\")[1].strip()   \n",
    "    print(\"PROMPT:\\n\" + prompt + \"\\nCOMPLETION:\\n\" + completion + \"\\n\" + 20 * \"=\")\n",
    "    info = {'prompt': prompt, 'completion': completion}\n",
    "    data.append(info)\n",
    "    \n",
    "with open('wordsworth.jsonl', 'w') as outfile:\n",
    "    for i in data:\n",
    "        json.dump(i, outfile)\n",
    "        outfile.write('\\n')\n"
   ]
  }
 ],
 "metadata": {
  "kernelspec": {
   "display_name": "Python 3 (ipykernel)",
   "language": "python",
   "name": "python3"
  },
  "language_info": {
   "codemirror_mode": {
    "name": "ipython",
    "version": 3
   },
   "file_extension": ".py",
   "mimetype": "text/x-python",
   "name": "python",
   "nbconvert_exporter": "python",
   "pygments_lexer": "ipython3",
   "version": "3.9.13"
  }
 },
 "nbformat": 4,
 "nbformat_minor": 4
}
