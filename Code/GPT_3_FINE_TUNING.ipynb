{
 "cells": [
  {
   "cell_type": "markdown",
   "metadata": {},
   "source": [
    "<a target=\"_blank\" href=\"https://colab.research.google.com/github/PeterS111/Fine-tuning-GPT-3-for-Poetry-Generation-and-Evaluation/blob/main/Code/GPT_3_FINE_TUNING.ipynb\">\n",
    "  <img src=\"https://colab.research.google.com/assets/colab-badge.svg\" alt=\"Open In Colab\"/>\n",
    "</a>"
   ]
  },
  {
   "cell_type": "markdown",
   "metadata": {},
   "source": [
    "### This notebook fine-tunes GPT-3 models\n",
    "\n",
    "for details please refer to our paper: https://github.com/PeterS111/Fine-tuning-GPT-3-for-Poetry-Generation-and-Evaluation/blob/main/sawicki2023gptpoetry.pdf\n",
    "\n",
    "author: PeterS\n",
    "\n",
    "version: 29/04/2023"
   ]
  },
  {
   "cell_type": "code",
   "execution_count": null,
   "metadata": {},
   "outputs": [],
   "source": [
    "# !pip install openai\n",
    "import openai"
   ]
  },
  {
   "cell_type": "code",
   "execution_count": null,
   "metadata": {},
   "outputs": [],
   "source": [
    "openai.api_key = \"your OpenAI key here\""
   ]
  },
  {
   "cell_type": "code",
   "execution_count": null,
   "metadata": {},
   "outputs": [],
   "source": [
    "model = \"babbage\" \n",
    "n_epochs = 4 \n",
    "batch_size = 4\n",
    "learning_rate_multiplier = 0.1\n",
    "prompt_loss_weight = 0.1\n",
    "fine_tuning_file_path = 'wordsworth.jsonl'\n",
    "suffix = fine_tuning_file_path.split(\".jsonl\")[0] + \"_\" + model +  \"_\" + str(n_epochs) +\"e\"\n",
    "print(suffix)"
   ]
  },
  {
   "cell_type": "code",
   "execution_count": null,
   "metadata": {},
   "outputs": [],
   "source": [
    "def upload_file_to_openai(file_path):\n",
    "    with open(file_path, \"rb\") as f:\n",
    "        file_data = f.read()\n",
    "\n",
    "    response = openai.File.create(\n",
    "        purpose=\"fine-tune\",\n",
    "        file=file_data\n",
    "    )\n",
    "    return response\n",
    "\n",
    "response = upload_file_to_openai(fine_tuning_file_path)\n",
    "\n",
    "print(\"File ID:\", response.id)\n",
    "\n",
    "def fine_tune_gpt3(file_id):\n",
    "    response = openai.FineTune.create(\n",
    "        model=model,\n",
    "        training_file=file_id,\n",
    "        n_epochs=n_epochs,\n",
    "        batch_size=batch_size,\n",
    "        suffix=suffix,\n",
    "        learning_rate_multiplier=learning_rate_multiplier,\n",
    "        prompt_loss_weight=prompt_loss_weight        \n",
    "               \n",
    "    )\n",
    "    return response\n",
    "\n",
    "# Start the fine-tuning process\n",
    "\n",
    "fine_tune_response = fine_tune_gpt3(response.id)\n",
    "print(\"Fine-tuning ID:\", fine_tune_response.id)\n",
    "\n"
   ]
  },
  {
   "cell_type": "code",
   "execution_count": null,
   "metadata": {},
   "outputs": [],
   "source": [
    "# Run this cell to show the progress of fine-tuning:\n",
    "\n",
    "def follow_fine_tune_progress(fine_tune_id):\n",
    "    \n",
    "    f_dict = openai.FineTune.retrieve(fine_tune_id)\n",
    "    for i in f_dict[\"events\"]:\n",
    "        print(i[\"message\"])\n",
    "\n",
    "follow_fine_tune_progress(fine_tune_response.id)\n"
   ]
  },
  {
   "cell_type": "code",
   "execution_count": null,
   "metadata": {},
   "outputs": [],
   "source": [
    "# Uncomment the last line and run this cell if you want to cancel fine-tuning\n",
    "# Just closing this notebook will not cancel the fine-tuning!\n",
    "\n",
    "def cancel_fine_tune(fine_tune_id):\n",
    "    \n",
    "    response_dict = openai.FineTune.cancel(fine_tune_id)\n",
    "    print(response_dict[\"events\"][0][\"message\"])\n",
    "    print(response_dict[\"events\"][1][\"message\"])\n",
    "    \n",
    "# cancel_fine_tune(fine_tune_response.id)\n"
   ]
  }
 ],
 "metadata": {
  "kernelspec": {
   "display_name": "Python 3 (ipykernel)",
   "language": "python",
   "name": "python3"
  },
  "language_info": {
   "codemirror_mode": {
    "name": "ipython",
    "version": 3
   },
   "file_extension": ".py",
   "mimetype": "text/x-python",
   "name": "python",
   "nbconvert_exporter": "python",
   "pygments_lexer": "ipython3",
   "version": "3.9.13"
  }
 },
 "nbformat": 4,
 "nbformat_minor": 4
}
