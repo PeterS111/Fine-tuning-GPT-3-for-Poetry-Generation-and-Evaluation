{
 "cells": [
  {
   "cell_type": "markdown",
   "metadata": {},
   "source": [
    "<a target=\"_blank\" href=\"https://colab.research.google.com/github/PeterS111/Fine-tuning-GPT-3-for-Poetry-Generation-and-Evaluation/blob/main/Code/GPT_3_GENERATING_POEMS_FROM_FINE_TUNED_MODELS.ipynb\">\n",
    "  <img src=\"https://colab.research.google.com/assets/colab-badge.svg\" alt=\"Open In Colab\"/>\n",
    "</a>"
   ]
  },
  {
   "cell_type": "markdown",
   "metadata": {},
   "source": [
    "### This notebook generates poetry from the fine-tuned GPT-3 models\n",
    "\n",
    "for details please refer to our paper: https://github.com/PeterS111/Fine-tuning-GPT-3-for-Poetry-Generation-and-Evaluation/blob/main/sawicki2023gptpoetry.pdf\n",
    "\n",
    "author: PeterS\n",
    "\n",
    "version: 29/04/2023"
   ]
  },
  {
   "cell_type": "code",
   "execution_count": null,
   "metadata": {},
   "outputs": [],
   "source": [
    "# !pip install openai"
   ]
  },
  {
   "cell_type": "code",
   "execution_count": null,
   "metadata": {},
   "outputs": [],
   "source": [
    "import os\n",
    "import openai"
   ]
  },
  {
   "cell_type": "code",
   "execution_count": null,
   "metadata": {},
   "outputs": [],
   "source": [
    "openai.api_key = \"your OpenAI key here\""
   ]
  },
  {
   "cell_type": "code",
   "execution_count": null,
   "metadata": {},
   "outputs": [],
   "source": [
    "#####################################################\n",
    "## SET UP GENERATION FROM THE FINE-TUNED MODEL:\n",
    "\n",
    "selected_model = \"id of your fine-tuned model\"\n",
    "\n",
    "out_file = \"poem\"\n",
    "out_file_p = \"p_\" + out_file\n",
    "out_dir = \"gpt3_poetry_output\"\n",
    "\n",
    "#####################################################\n",
    "def run_fine_tuned_gpt3(in_str):\n",
    "    response = openai.Completion.create(\n",
    "      model=selected_model,\n",
    "      prompt=in_str,\n",
    "      temperature=1.0,\n",
    "      max_tokens=1500,\n",
    "      top_p=1,\n",
    "      frequency_penalty=0,\n",
    "      presence_penalty=0,\n",
    "      stop=[\"<|endofpoem|>\"]\n",
    "    )\n",
    "    \n",
    "    answer = response[\"choices\"][0][\"text\"].strip() \n",
    "    return answer\n",
    "\n",
    "def write_to_file(out_dir, out_file, out_text):\n",
    "\n",
    "    if not os.path.isdir(out_dir):\n",
    "        os.makedirs(out_dir)\n",
    "        print(\"Created directory:\" + out_dir) \n",
    "\n",
    "    index = 1\n",
    "    out_file_name = out_file + \"_\" + str(index) + \".txt\"\n",
    "\n",
    "    while out_file_name in os.listdir(out_dir):\n",
    "        index +=1\n",
    "        out_file_name = out_file + \"_\" + str(index) + \".txt\"\n",
    "\n",
    "    out_file_name_full = out_dir + \"/\" + out_file_name\n",
    "    f= open(out_file_name_full, \"a\", encoding = \"utf-8\")\n",
    "    f.write(out_text)\n",
    "    f.close()\n",
    "    "
   ]
  },
  {
   "cell_type": "code",
   "execution_count": null,
   "metadata": {},
   "outputs": [],
   "source": [
    "#####################################\n",
    "## RUN THE FINE TUNED GPT-3 MODEL: \n",
    "#####################################\n",
    "\n",
    "wilcox = \"<|startofauthor|>Ella Wheeler Wilcox<|endofauthor|>\\n<|startofdates|>1850–1919<|endofdates|>\\n<|startofcountry|>United States<|endofcountry|>\\n\"\n",
    "dickinson = \"<|startofauthor|>Emily Dickinson<|endofauthor|>\\n<|startofdates|>1830–1886<|endofdates|>\\n<|startofcountry|>United States<|endofcountry|>\\n\"\n",
    "byron = \"<|startofauthor|>Lord Byron<|endofauthor|>\\n<|startofdates|>1788–1824<|endofdates|>\\n<|startofcountry|>England/Italy<|endofcountry|>\\n\"\n",
    "kipling = \"<|startofauthor|>Rudyard Kipling<|endofauthor|>\\n<|startofdates|>1865–1936<|endofdates|>\\n<|startofcountry|>England<|endofcountry|>\\n\"\n",
    "hardy = \"<|startofauthor|>Thomas Hardy<|endofauthor|>\\n<|startofdates|>1840–1928<|endofdates|>\\n<|startofcountry|>England<|endofcountry|>\\n\"\n",
    "whitman = \"<|startofauthor|>Walt Whitman<|endofauthor|>\\n<|startofdates|>1819–1892<|endofdates|>\\n<|startofcountry|>United States<|endofcountry|>\\n\"\n",
    "wordsworth = \"<|startofauthor|>William Wordsworth<|endofauthor|>\\n<|startofdates|>1770–1850<|endofdates|>\\n<|startofcountry|>England<|endofcountry|>\\n\"\n",
    "\n",
    "\n",
    "######################################\n",
    "##--------- EDIT HERE ------------#####\n",
    "selected_author = whitman\n",
    "title = \"The Blessing\"\n",
    "theme = \"Love\"\n",
    "summary = \"This poem is a plea to Juno, Genius, and Hebe to bless a marriage, asking for their protection and fruitfulness in the union. The speaker also asks for their blessing and praises them in return.\"\n",
    "\n",
    "# If you want to add a fragment of the poem after the summary, enter it into variable bolow:\n",
    "additional_text = \"\"\n",
    "\n",
    "\n",
    "###                               ####\n",
    "######################################\n",
    "\n",
    "## IGNORE THE STUFF BELOW:\n",
    "\n",
    "prompt = selected_author + \"<|startoftitle|>\" + title + \"<|endoftitle|>\\n\" + \\\n",
    "\"<|startofthemes|>\" + theme + \"<|endofthemes|>\\n\" + \"<|startofsummary|>\\n\" + \\\n",
    "summary + \"\\n<|endofsummary|>\\n<|startofpoem|>\\n\" + additional_text\n",
    "\n",
    "p_author = \"Author: \" + selected_author.split(\"<|startofauthor|>\")[1].split(\"<|endofauthor|>\")[0] + \"\\n\"\n",
    "p_dates = \"Dates: \"+ selected_author.split(\"<|startofdates|>\")[1].split(\"<|endofdates|>\")[0]  + \"\\n\"\n",
    "p_country = \"Contry: \" + selected_author.split(\"<|startofcountry|>\")[1].split(\"<|endofcountry|>\")[0] + \"\\n\"\n",
    "p_title = \"Title: \" + title + \"\\n\"\n",
    "p_theme = \"Theme: \" + theme + \"\\n\\n\"\n",
    "p_summary = \"Summary: \" + summary + \"\\n\\n\"\n",
    "p_poem = \"Poem: \" + \"\\n\\n\"\n",
    "p_prompt = p_author + p_dates + p_country + p_title + p_theme + p_summary + p_poem\n",
    "response = response = run_fine_tuned_gpt3(prompt).strip()\n",
    "out_text = prompt + response +  \"\\n<|endofpoem|>\"\n",
    "p_out_text = p_prompt + response\n",
    "print(out_text)\n",
    "print(\"\\n\" + 20 * \"=\" + \"\\n\")\n",
    "print(p_out_text)\n",
    "\n",
    "##########################\n",
    "## WRITING OUTPUT TO FILE:\n",
    "\n",
    "write_to_file(out_dir, out_file, out_text)\n",
    "write_to_file(out_dir, out_file_p, p_out_text)\n"
   ]
  }
 ],
 "metadata": {
  "kernelspec": {
   "display_name": "Python 3 (ipykernel)",
   "language": "python",
   "name": "python3"
  },
  "language_info": {
   "codemirror_mode": {
    "name": "ipython",
    "version": 3
   },
   "file_extension": ".py",
   "mimetype": "text/x-python",
   "name": "python",
   "nbconvert_exporter": "python",
   "pygments_lexer": "ipython3",
   "version": "3.9.13"
  }
 },
 "nbformat": 4,
 "nbformat_minor": 4
}
